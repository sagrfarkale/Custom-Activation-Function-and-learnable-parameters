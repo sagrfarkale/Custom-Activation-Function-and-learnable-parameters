{
  "nbformat": 4,
  "nbformat_minor": 0,
  "metadata": {
    "colab": {
      "name": "Copy of Happymonk.ai",
      "provenance": []
    },
    "kernelspec": {
      "name": "python3",
      "display_name": "Python 3"
    },
    "language_info": {
      "name": "python"
    }
  },
  "cells": [
    {
      "cell_type": "markdown",
      "metadata": {
        "id": "AWZS1D0tPCe-"
      },
      "source": [
        "Importing Required Libraries"
      ]
    },
    {
      "cell_type": "code",
      "metadata": {
        "id": "RYd1K5AEPgrv"
      },
      "source": [
        "import numpy as np # linear algebra\n",
        "import pandas as pd # data processing, CSV file I/O (e.g. pd.read_csv)\n",
        "from collections import OrderedDict\n",
        "\n",
        "# Import PyTorch\n",
        "import torch # import main library\n",
        "from torch.autograd import Variable\n",
        "import torch.nn as nn # import modules\n",
        "from torch.autograd import Function # import Function to create custom activations\n",
        "from torch.nn.parameter import Parameter # import Parameter to create custom activations with learnable parameters\n",
        "from torch import optim # import optimizers for demonstrations\n",
        "import torch.nn.functional as F # import torch functions\n",
        "from torchvision import datasets, transforms # import transformations to use for demo"
      ],
      "execution_count": null,
      "outputs": []
    },
    {
      "cell_type": "markdown",
      "metadata": {
        "id": "ODmoPRtqNFiR"
      },
      "source": [
        "Reading Dataset of uploaded file in csv format "
      ]
    },
    {
      "cell_type": "code",
      "metadata": {
        "colab": {
          "base_uri": "https://localhost:8080/",
          "height": 205
        },
        "id": "mAkMqKcQPrn1",
        "outputId": "056fb9a9-faf6-4e9d-95e5-4734ceb0dc86"
      },
      "source": [
        "df = pd.read_csv('/content/BankNote_Authentication.csv')\n",
        "df.head()"
      ],
      "execution_count": null,
      "outputs": [
        {
          "output_type": "execute_result",
          "data": {
            "text/html": [
              "<div>\n",
              "<style scoped>\n",
              "    .dataframe tbody tr th:only-of-type {\n",
              "        vertical-align: middle;\n",
              "    }\n",
              "\n",
              "    .dataframe tbody tr th {\n",
              "        vertical-align: top;\n",
              "    }\n",
              "\n",
              "    .dataframe thead th {\n",
              "        text-align: right;\n",
              "    }\n",
              "</style>\n",
              "<table border=\"1\" class=\"dataframe\">\n",
              "  <thead>\n",
              "    <tr style=\"text-align: right;\">\n",
              "      <th></th>\n",
              "      <th>variance</th>\n",
              "      <th>skewness</th>\n",
              "      <th>curtosis</th>\n",
              "      <th>entropy</th>\n",
              "      <th>class</th>\n",
              "    </tr>\n",
              "  </thead>\n",
              "  <tbody>\n",
              "    <tr>\n",
              "      <th>0</th>\n",
              "      <td>3.62160</td>\n",
              "      <td>8.6661</td>\n",
              "      <td>-2.8073</td>\n",
              "      <td>-0.44699</td>\n",
              "      <td>0</td>\n",
              "    </tr>\n",
              "    <tr>\n",
              "      <th>1</th>\n",
              "      <td>4.54590</td>\n",
              "      <td>8.1674</td>\n",
              "      <td>-2.4586</td>\n",
              "      <td>-1.46210</td>\n",
              "      <td>0</td>\n",
              "    </tr>\n",
              "    <tr>\n",
              "      <th>2</th>\n",
              "      <td>3.86600</td>\n",
              "      <td>-2.6383</td>\n",
              "      <td>1.9242</td>\n",
              "      <td>0.10645</td>\n",
              "      <td>0</td>\n",
              "    </tr>\n",
              "    <tr>\n",
              "      <th>3</th>\n",
              "      <td>3.45660</td>\n",
              "      <td>9.5228</td>\n",
              "      <td>-4.0112</td>\n",
              "      <td>-3.59440</td>\n",
              "      <td>0</td>\n",
              "    </tr>\n",
              "    <tr>\n",
              "      <th>4</th>\n",
              "      <td>0.32924</td>\n",
              "      <td>-4.4552</td>\n",
              "      <td>4.5718</td>\n",
              "      <td>-0.98880</td>\n",
              "      <td>0</td>\n",
              "    </tr>\n",
              "  </tbody>\n",
              "</table>\n",
              "</div>"
            ],
            "text/plain": [
              "   variance  skewness  curtosis  entropy  class\n",
              "0   3.62160    8.6661   -2.8073 -0.44699      0\n",
              "1   4.54590    8.1674   -2.4586 -1.46210      0\n",
              "2   3.86600   -2.6383    1.9242  0.10645      0\n",
              "3   3.45660    9.5228   -4.0112 -3.59440      0\n",
              "4   0.32924   -4.4552    4.5718 -0.98880      0"
            ]
          },
          "metadata": {
            "tags": []
          },
          "execution_count": 2
        }
      ]
    },
    {
      "cell_type": "code",
      "metadata": {
        "colab": {
          "base_uri": "https://localhost:8080/"
        },
        "id": "f7YkxTYgeJPG",
        "outputId": "114a8150-32b0-4a12-af32-4cc816233750"
      },
      "source": [
        "df['class'].unique()"
      ],
      "execution_count": null,
      "outputs": [
        {
          "output_type": "execute_result",
          "data": {
            "text/plain": [
              "array([0, 1])"
            ]
          },
          "metadata": {
            "tags": []
          },
          "execution_count": 179
        }
      ]
    },
    {
      "cell_type": "code",
      "metadata": {
        "colab": {
          "base_uri": "https://localhost:8080/"
        },
        "id": "8ha1ydtGPzxW",
        "outputId": "ed823923-bd2f-441f-9a67-219e06ff1849"
      },
      "source": [
        "df.isnull().sum()"
      ],
      "execution_count": null,
      "outputs": [
        {
          "output_type": "execute_result",
          "data": {
            "text/plain": [
              "variance    0\n",
              "skewness    0\n",
              "curtosis    0\n",
              "entropy     0\n",
              "class       0\n",
              "dtype: int64"
            ]
          },
          "metadata": {
            "tags": []
          },
          "execution_count": 3
        }
      ]
    },
    {
      "cell_type": "markdown",
      "metadata": {
        "id": "ouB264IFNX_O"
      },
      "source": [
        "Following Descriptive statistics of DataSet shows that every variable is normalised and need no normalization"
      ]
    },
    {
      "cell_type": "code",
      "metadata": {
        "colab": {
          "base_uri": "https://localhost:8080/",
          "height": 299
        },
        "id": "Hl03IlsNNTGx",
        "outputId": "17075a2a-40f2-4261-efd6-37f35905d7db"
      },
      "source": [
        "df.describe()"
      ],
      "execution_count": null,
      "outputs": [
        {
          "output_type": "execute_result",
          "data": {
            "text/html": [
              "<div>\n",
              "<style scoped>\n",
              "    .dataframe tbody tr th:only-of-type {\n",
              "        vertical-align: middle;\n",
              "    }\n",
              "\n",
              "    .dataframe tbody tr th {\n",
              "        vertical-align: top;\n",
              "    }\n",
              "\n",
              "    .dataframe thead th {\n",
              "        text-align: right;\n",
              "    }\n",
              "</style>\n",
              "<table border=\"1\" class=\"dataframe\">\n",
              "  <thead>\n",
              "    <tr style=\"text-align: right;\">\n",
              "      <th></th>\n",
              "      <th>variance</th>\n",
              "      <th>skewness</th>\n",
              "      <th>curtosis</th>\n",
              "      <th>entropy</th>\n",
              "      <th>class</th>\n",
              "    </tr>\n",
              "  </thead>\n",
              "  <tbody>\n",
              "    <tr>\n",
              "      <th>count</th>\n",
              "      <td>1372.000000</td>\n",
              "      <td>1372.000000</td>\n",
              "      <td>1372.000000</td>\n",
              "      <td>1372.000000</td>\n",
              "      <td>1372.000000</td>\n",
              "    </tr>\n",
              "    <tr>\n",
              "      <th>mean</th>\n",
              "      <td>0.433735</td>\n",
              "      <td>1.922353</td>\n",
              "      <td>1.397627</td>\n",
              "      <td>-1.191657</td>\n",
              "      <td>0.444606</td>\n",
              "    </tr>\n",
              "    <tr>\n",
              "      <th>std</th>\n",
              "      <td>2.842763</td>\n",
              "      <td>5.869047</td>\n",
              "      <td>4.310030</td>\n",
              "      <td>2.101013</td>\n",
              "      <td>0.497103</td>\n",
              "    </tr>\n",
              "    <tr>\n",
              "      <th>min</th>\n",
              "      <td>-7.042100</td>\n",
              "      <td>-13.773100</td>\n",
              "      <td>-5.286100</td>\n",
              "      <td>-8.548200</td>\n",
              "      <td>0.000000</td>\n",
              "    </tr>\n",
              "    <tr>\n",
              "      <th>25%</th>\n",
              "      <td>-1.773000</td>\n",
              "      <td>-1.708200</td>\n",
              "      <td>-1.574975</td>\n",
              "      <td>-2.413450</td>\n",
              "      <td>0.000000</td>\n",
              "    </tr>\n",
              "    <tr>\n",
              "      <th>50%</th>\n",
              "      <td>0.496180</td>\n",
              "      <td>2.319650</td>\n",
              "      <td>0.616630</td>\n",
              "      <td>-0.586650</td>\n",
              "      <td>0.000000</td>\n",
              "    </tr>\n",
              "    <tr>\n",
              "      <th>75%</th>\n",
              "      <td>2.821475</td>\n",
              "      <td>6.814625</td>\n",
              "      <td>3.179250</td>\n",
              "      <td>0.394810</td>\n",
              "      <td>1.000000</td>\n",
              "    </tr>\n",
              "    <tr>\n",
              "      <th>max</th>\n",
              "      <td>6.824800</td>\n",
              "      <td>12.951600</td>\n",
              "      <td>17.927400</td>\n",
              "      <td>2.449500</td>\n",
              "      <td>1.000000</td>\n",
              "    </tr>\n",
              "  </tbody>\n",
              "</table>\n",
              "</div>"
            ],
            "text/plain": [
              "          variance     skewness     curtosis      entropy        class\n",
              "count  1372.000000  1372.000000  1372.000000  1372.000000  1372.000000\n",
              "mean      0.433735     1.922353     1.397627    -1.191657     0.444606\n",
              "std       2.842763     5.869047     4.310030     2.101013     0.497103\n",
              "min      -7.042100   -13.773100    -5.286100    -8.548200     0.000000\n",
              "25%      -1.773000    -1.708200    -1.574975    -2.413450     0.000000\n",
              "50%       0.496180     2.319650     0.616630    -0.586650     0.000000\n",
              "75%       2.821475     6.814625     3.179250     0.394810     1.000000\n",
              "max       6.824800    12.951600    17.927400     2.449500     1.000000"
            ]
          },
          "metadata": {
            "tags": []
          },
          "execution_count": 421
        }
      ]
    },
    {
      "cell_type": "markdown",
      "metadata": {
        "id": "uSr6-dDKOQ_r"
      },
      "source": [
        "Preparing datasets for trainnig by converting them into tensors"
      ]
    },
    {
      "cell_type": "code",
      "metadata": {
        "id": "m5_lDV5AWfCf"
      },
      "source": [
        "var = ['variance','skewness'\t,'curtosis',\t'entropy'\t]\n",
        "tar = ['class']"
      ],
      "execution_count": null,
      "outputs": []
    },
    {
      "cell_type": "code",
      "metadata": {
        "colab": {
          "base_uri": "https://localhost:8080/"
        },
        "id": "BIPyj4PcW28U",
        "outputId": "63b675bd-6f8e-408f-8d17-220d48196934"
      },
      "source": [
        "varss = np.stack([df[vars].values for vars in var], 1)\n",
        "X = torch.tensor(varss, dtype=torch.float)\n",
        "y = torch.tensor(df[tar].values).flatten()\n",
        "X"
      ],
      "execution_count": null,
      "outputs": [
        {
          "output_type": "execute_result",
          "data": {
            "text/plain": [
              "tensor([[  3.6216,   8.6661,  -2.8073,  -0.4470],\n",
              "        [  4.5459,   8.1674,  -2.4586,  -1.4621],\n",
              "        [  3.8660,  -2.6383,   1.9242,   0.1064],\n",
              "        ...,\n",
              "        [ -3.7503, -13.4586,  17.5932,  -2.7771],\n",
              "        [ -3.5637,  -8.3827,  12.3930,  -1.2823],\n",
              "        [ -2.5419,  -0.6580,   2.6842,   1.1952]])"
            ]
          },
          "metadata": {
            "tags": []
          },
          "execution_count": 19
        }
      ]
    },
    {
      "cell_type": "markdown",
      "metadata": {
        "id": "-33jKIUbLMFt"
      },
      "source": [
        "Splitting and Shuffling dataset for unbiased training\n"
      ]
    },
    {
      "cell_type": "code",
      "metadata": {
        "id": "LnBTyyEj11EQ"
      },
      "source": [
        "from sklearn.model_selection import train_test_split\n",
        "\n",
        "X_train,X_test,y_train,y_test = train_test_split(X,y,test_size=0.2,random_state=33)"
      ],
      "execution_count": null,
      "outputs": []
    },
    {
      "cell_type": "markdown",
      "metadata": {
        "id": "QsekGSx4Kwha"
      },
      "source": [
        "#Defining our Custom Activation Function\n"
      ]
    },
    {
      "cell_type": "markdown",
      "metadata": {
        "id": "tgct8ImSPYAP"
      },
      "source": [
        "Instead of using K-not and K I used alpha and beta as learnable parameters for better understanding\n",
        "**alpha + beta.X**"
      ]
    },
    {
      "cell_type": "code",
      "metadata": {
        "id": "TFIRcjvHP8Fi"
      },
      "source": [
        "class customactfunc(nn.Module):\n",
        "\n",
        "  def __init__(self, in_features, alpha = None ,beta =None):\n",
        "    super(customactfunc,self).__init__()\n",
        "    self.in_features = in_features\n",
        "\n",
        "    # initialize alpha\n",
        "    if alpha == None:\n",
        "      self.alpha = Parameter(torch.tensor(0.0)) # create a tensor out of alpha\n",
        "    else:\n",
        "      self.alpha = Parameter(torch.tensor(alpha)) # create a tensor out of alpha\n",
        "\n",
        "    if beta == None:\n",
        "      self.beta = Parameter(torch.tensor(0.0)) # create a tensor out of beta\n",
        "    else:\n",
        "      self.beta = Parameter(torch.tensor(beta)) # create a tensor out of beta\n",
        "            \n",
        "    self.alpha.requiresGrad = True # set requiresGrad to true!\n",
        "\n",
        "    self.beta.requiresGrad = True # set requiresGrad to true!\n",
        "\n",
        "  def forward(self,X):\n",
        "\n",
        "    return (self.alpha + self.beta*X)\n"
      ],
      "execution_count": null,
      "outputs": []
    },
    {
      "cell_type": "code",
      "metadata": {
        "id": "TWxIegTiVELK"
      },
      "source": [
        "class ClassifierCustom(nn.Module):\n",
        "    '''\n",
        "    Basic fully-connected network to test Soft Exponential activation.\n",
        "    '''\n",
        "    def __init__(self):\n",
        "        super().__init__()\n",
        "\n",
        "        # initialize layers\n",
        "        self.fc1 = nn.Linear(4, 8)\n",
        "        self.fc2 = nn.Linear(8, 9)\n",
        "        self.fc3 = nn.Linear(9, 5)\n",
        "        self.fc4 = nn.Linear(5, 4)\n",
        "        self.fc5 = nn.Linear(4,2)\n",
        "        self.bn1 = nn.BatchNorm1d(8)\n",
        "        self.bn2 = nn.BatchNorm1d(9)\n",
        "        self.bn3 = nn.BatchNorm1d(5)\n",
        "        self.bn4 = nn.BatchNorm1d(4)\n",
        "        self.d1  = nn.Dropout(p=0.4)\n",
        "        self.d2  = nn.Dropout(p=0.4)\n",
        "        self.d3  = nn.Dropout(p=0.4)\n",
        "        self.d4  = nn.Dropout(p=0.4)\n",
        "\n",
        "        # initialize customactfuncd activation\n",
        "        self.a1 = customactfunc(8)\n",
        "        self.a2 = customactfunc(9)\n",
        "        self.a3 = customactfunc(5)\n",
        "        self.a4 = customactfunc(4)\n",
        "\n",
        "\n",
        "    def forward(self, X):\n",
        "        # make sure the input tensor is flattened\n",
        "        X = X.view(X.shape[0], -1)\n",
        "\n",
        "        # apply Soft Exponential unit\n",
        "        X = self.a1(self.fc1(X))\n",
        "        X = self.bn1(X)\n",
        "        X = self.d1(X)\n",
        "        X = self.a2(self.fc2(X))\n",
        "        X = self.bn2(X)\n",
        "        X = self.d2(X)\n",
        "        X = self.a3(self.fc3(X))\n",
        "        X = self.bn3(X)\n",
        "        X = self.d3(X)\n",
        "        X = self.a4(self.fc4(X))\n",
        "        X = self.bn4(X)\n",
        "        X = self.d4(X)\n",
        "\n",
        "        X = F.log_softmax(self.fc5(X), dim=1)\n",
        "\n",
        "        return X\n",
        "    \n",
        "model = ClassifierCustom()\n"
      ],
      "execution_count": null,
      "outputs": []
    },
    {
      "cell_type": "code",
      "metadata": {
        "colab": {
          "base_uri": "https://localhost:8080/"
        },
        "id": "NSgQ5w1WbiIG",
        "outputId": "2defe395-8c2c-49f4-8a49-1f721c4a223e"
      },
      "source": [
        "torch.manual_seed(33)\n",
        "model = ClassifierCustom()\n",
        "criterion = nn.CrossEntropyLoss()\n",
        "optimizer = torch.optim.Adam(model.parameters(), lr=0.001) \n",
        "model"
      ],
      "execution_count": null,
      "outputs": [
        {
          "output_type": "execute_result",
          "data": {
            "text/plain": [
              "ClassifierCustom(\n",
              "  (fc1): Linear(in_features=4, out_features=8, bias=True)\n",
              "  (fc2): Linear(in_features=8, out_features=9, bias=True)\n",
              "  (fc3): Linear(in_features=9, out_features=5, bias=True)\n",
              "  (fc4): Linear(in_features=5, out_features=4, bias=True)\n",
              "  (fc5): Linear(in_features=4, out_features=2, bias=True)\n",
              "  (bn1): BatchNorm1d(8, eps=1e-05, momentum=0.1, affine=True, track_running_stats=True)\n",
              "  (bn2): BatchNorm1d(9, eps=1e-05, momentum=0.1, affine=True, track_running_stats=True)\n",
              "  (bn3): BatchNorm1d(5, eps=1e-05, momentum=0.1, affine=True, track_running_stats=True)\n",
              "  (bn4): BatchNorm1d(4, eps=1e-05, momentum=0.1, affine=True, track_running_stats=True)\n",
              "  (d1): Dropout(p=0.4, inplace=False)\n",
              "  (d2): Dropout(p=0.4, inplace=False)\n",
              "  (d3): Dropout(p=0.4, inplace=False)\n",
              "  (d4): Dropout(p=0.4, inplace=False)\n",
              "  (a1): customactfunc()\n",
              "  (a2): customactfunc()\n",
              "  (a3): customactfunc()\n",
              "  (a4): customactfunc()\n",
              ")"
            ]
          },
          "metadata": {
            "tags": []
          },
          "execution_count": 403
        }
      ]
    },
    {
      "cell_type": "code",
      "metadata": {
        "colab": {
          "base_uri": "https://localhost:8080/"
        },
        "id": "hR9NGfPgei2-",
        "outputId": "54f9b98e-2f24-49cc-da2b-27e1aff7016f"
      },
      "source": [
        "epochs = 300\n",
        "losses = []\n",
        "alpha_beta = []\n",
        "\n",
        "for i in range(epochs):\n",
        "    i+=1\n",
        "    y_pred = model.forward(X_train)\n",
        "    loss = criterion(y_pred, y_train)\n",
        "    losses.append(loss)\n",
        "    \n",
        "    for p in model.a4.parameters():\n",
        "      if p.requires_grad:\n",
        "         alpha_beta.append(p.data.item())\n",
        "    \n",
        "    # a neat trick to save screen space:\n",
        "    if i%10 == 1:\n",
        "        print(f'epoch: {i:2}  loss: {loss.item():10.8f}')\n",
        "\n",
        "    optimizer.zero_grad()\n",
        "    loss.backward()\n",
        "    optimizer.step()"
      ],
      "execution_count": null,
      "outputs": [
        {
          "output_type": "stream",
          "text": [
            "epoch:  1  loss: 0.69341666\n",
            "epoch: 11  loss: 0.68901283\n",
            "epoch: 21  loss: 0.67946261\n",
            "epoch: 31  loss: 0.65432006\n",
            "epoch: 41  loss: 0.64089680\n",
            "epoch: 51  loss: 0.61335182\n",
            "epoch: 61  loss: 0.57014740\n",
            "epoch: 71  loss: 0.55605602\n",
            "epoch: 81  loss: 0.51772469\n",
            "epoch: 91  loss: 0.48479205\n",
            "epoch: 101  loss: 0.47286823\n",
            "epoch: 111  loss: 0.42936814\n",
            "epoch: 121  loss: 0.42642415\n",
            "epoch: 131  loss: 0.38042408\n",
            "epoch: 141  loss: 0.37957561\n",
            "epoch: 151  loss: 0.35339731\n",
            "epoch: 161  loss: 0.34350443\n",
            "epoch: 171  loss: 0.32546455\n",
            "epoch: 181  loss: 0.31831312\n",
            "epoch: 191  loss: 0.29175425\n",
            "epoch: 201  loss: 0.27618641\n",
            "epoch: 211  loss: 0.26933664\n",
            "epoch: 221  loss: 0.26247549\n",
            "epoch: 231  loss: 0.25022548\n",
            "epoch: 241  loss: 0.25801629\n",
            "epoch: 251  loss: 0.24797972\n",
            "epoch: 261  loss: 0.24147671\n",
            "epoch: 271  loss: 0.21467130\n",
            "epoch: 281  loss: 0.21969040\n",
            "epoch: 291  loss: 0.20641302\n"
          ],
          "name": "stdout"
        }
      ]
    },
    {
      "cell_type": "code",
      "metadata": {
        "colab": {
          "base_uri": "https://localhost:8080/"
        },
        "id": "Cdl2LyXeehd_",
        "outputId": "598ceb17-9663-4f7d-bb91-48caab86419b"
      },
      "source": [
        "\n",
        "# TO EVALUATE THE ENTIRE TEST SET\n",
        "with torch.no_grad():\n",
        "    y_val = model(X_test)\n",
        "    loss = criterion(y_val, y_test)\n",
        "print(f'CE Loss: {loss:.8f}')"
      ],
      "execution_count": null,
      "outputs": [
        {
          "output_type": "stream",
          "text": [
            "CE Loss: 0.21088883\n"
          ],
          "name": "stdout"
        }
      ]
    },
    {
      "cell_type": "code",
      "metadata": {
        "colab": {
          "base_uri": "https://localhost:8080/"
        },
        "id": "TaaCR-l0gd9j",
        "outputId": "3b44471a-0d20-4769-9c9f-97d2db09f9dc"
      },
      "source": [
        "rows = 50\n",
        "correct = 0\n",
        "print(f'{\"MODEL OUTPUT\":26} ARGMAX  Y_TEST')\n",
        "for i in range(rows):\n",
        "    print(f'{str(y_val[i]):26} {y_val[i].argmax():^7}{y_test[i]:^7}')\n",
        "    if y_val[i].argmax().item() == y_test[i]:\n",
        "        correct += 1\n",
        "print(f'\\n{correct} out of {rows} = {100*correct/rows:.2f}% correct')"
      ],
      "execution_count": null,
      "outputs": [
        {
          "output_type": "stream",
          "text": [
            "MODEL OUTPUT               ARGMAX  Y_TEST\n",
            "tensor([-0.0563, -2.9054])    0      0   \n",
            "tensor([-3.6228, -0.0271])    1      1   \n",
            "tensor([-0.6866, -0.6997])    0      1   \n",
            "tensor([-0.1761, -1.8237])    0      0   \n",
            "tensor([-1.7822, -0.1842])    1      1   \n",
            "tensor([-4.5045, -0.0111])    1      1   \n",
            "tensor([-2.2578, -0.1105])    1      1   \n",
            "tensor([-1.0490e-04, -9.1624e+00])    0      0   \n",
            "tensor([-1.1105e-03, -6.8035e+00])    0      0   \n",
            "tensor([-2.2224, -0.1147])    1      1   \n",
            "tensor([-0.0302, -3.5162])    0      0   \n",
            "tensor([-5.4548e+00, -4.2851e-03])    1      1   \n",
            "tensor([-1.8388e-03, -6.2995e+00])    0      0   \n",
            "tensor([-0.8994, -0.5223])    1      0   \n",
            "tensor([-2.6549, -0.0729])    1      1   \n",
            "tensor([-1.1191, -0.3954])    1      1   \n",
            "tensor([-7.4496e+00, -5.8181e-04])    1      1   \n",
            "tensor([-0.0426, -3.1771])    0      0   \n",
            "tensor([-2.8635, -0.0588])    1      1   \n",
            "tensor([-0.0655, -2.7577])    0      0   \n",
            "tensor([-7.0683e+00, -8.5198e-04])    1      1   \n",
            "tensor([-0.3236, -1.2857])    0      0   \n",
            "tensor([-7.5337e-05, -9.4931e+00])    0      0   \n",
            "tensor([-0.0084, -4.7878])    0      0   \n",
            "tensor([-4.0712, -0.0172])    1      1   \n",
            "tensor([-0.0093, -4.6819])    0      0   \n",
            "tensor([-0.1631, -1.8937])    0      0   \n",
            "tensor([-0.2116, -1.6572])    0      0   \n",
            "tensor([-0.4208, -1.0687])    0      0   \n",
            "tensor([-0.0136, -4.3069])    0      0   \n",
            "tensor([-0.9387, -0.4962])    1      1   \n",
            "tensor([-1.3054, -0.3162])    1      0   \n",
            "tensor([-2.9558, -0.0534])    1      1   \n",
            "tensor([-0.7916, -0.6035])    1      1   \n",
            "tensor([-0.5575, -0.8502])    0      0   \n",
            "tensor([-1.3667, -0.2943])    1      1   \n",
            "tensor([-0.3071, -1.3302])    0      0   \n",
            "tensor([-0.0454, -3.1148])    0      0   \n",
            "tensor([-5.5252e+00, -3.9929e-03])    1      1   \n",
            "tensor([-0.1982, -1.7162])    0      0   \n",
            "tensor([-3.2980e-04, -8.0172e+00])    0      0   \n",
            "tensor([-5.4854e+00, -4.1553e-03])    1      1   \n",
            "tensor([-2.8770, -0.0580])    1      1   \n",
            "tensor([-2.0358, -0.1399])    1      1   \n",
            "tensor([-5.6381e+00, -3.5660e-03])    1      1   \n",
            "tensor([-0.3317, -1.2648])    0      0   \n",
            "tensor([-4.4979, -0.0112])    1      1   \n",
            "tensor([-1.1921e-07, -1.5843e+01])    0      0   \n",
            "tensor([-1.0000e-03, -6.9082e+00])    0      0   \n",
            "tensor([-0.2711, -1.4378])    0      0   \n",
            "\n",
            "47 out of 50 = 94.00% correct\n"
          ],
          "name": "stdout"
        }
      ]
    },
    {
      "cell_type": "code",
      "metadata": {
        "colab": {
          "base_uri": "https://localhost:8080/"
        },
        "id": "MX5c1LoPj97k",
        "outputId": "db3f78dc-b727-4204-8c64-3a5fd3b3c0dd"
      },
      "source": [
        "for para in model.a1.parameters():\n",
        "  print(para)"
      ],
      "execution_count": null,
      "outputs": [
        {
          "output_type": "stream",
          "text": [
            "Parameter containing:\n",
            "tensor(0.0061, requires_grad=True)\n",
            "Parameter containing:\n",
            "tensor(-0.0168, requires_grad=True)\n"
          ],
          "name": "stdout"
        }
      ]
    },
    {
      "cell_type": "code",
      "metadata": {
        "colab": {
          "base_uri": "https://localhost:8080/"
        },
        "id": "_xD2dgHgmkLc",
        "outputId": "e0bc859a-b357-4afc-a5ce-9f6e167c4e86"
      },
      "source": [
        "for para in model.a2.parameters():\n",
        "  print(para)"
      ],
      "execution_count": null,
      "outputs": [
        {
          "output_type": "stream",
          "text": [
            "Parameter containing:\n",
            "tensor(-0.0111, requires_grad=True)\n",
            "Parameter containing:\n",
            "tensor(0.0177, requires_grad=True)\n"
          ],
          "name": "stdout"
        }
      ]
    },
    {
      "cell_type": "code",
      "metadata": {
        "colab": {
          "base_uri": "https://localhost:8080/"
        },
        "id": "Zric9QeMJS6o",
        "outputId": "3fc4abd5-c886-4a18-df85-211cba52179a"
      },
      "source": [
        "for para in model.a3.parameters():\n",
        "  print(para)"
      ],
      "execution_count": null,
      "outputs": [
        {
          "output_type": "stream",
          "text": [
            "Parameter containing:\n",
            "tensor(0.0052, requires_grad=True)\n",
            "Parameter containing:\n",
            "tensor(-0.0118, requires_grad=True)\n"
          ],
          "name": "stdout"
        }
      ]
    },
    {
      "cell_type": "code",
      "metadata": {
        "colab": {
          "base_uri": "https://localhost:8080/"
        },
        "id": "UOPueGcfJTKW",
        "outputId": "2894caa4-ec24-45ba-b3ff-fa833f2dda16"
      },
      "source": [
        "for para in model.a4.parameters():\n",
        "  print(para)"
      ],
      "execution_count": null,
      "outputs": [
        {
          "output_type": "stream",
          "text": [
            "Parameter containing:\n",
            "tensor(0.0144, requires_grad=True)\n",
            "Parameter containing:\n",
            "tensor(-0.0474, requires_grad=True)\n"
          ],
          "name": "stdout"
        }
      ]
    },
    {
      "cell_type": "code",
      "metadata": {
        "colab": {
          "base_uri": "https://localhost:8080/"
        },
        "id": "QlyWJXn2nPVz",
        "outputId": "a4aae981-1d6f-4ec4-de86-b80623e8a06a"
      },
      "source": [
        "print(len(y_test))\n",
        "y_valuated = []\n",
        "for i in range(275):\n",
        "  y_valuated.append(y_val[i].argmax().item())\n",
        "len(y_valuated)"
      ],
      "execution_count": null,
      "outputs": [
        {
          "output_type": "stream",
          "text": [
            "275\n"
          ],
          "name": "stdout"
        },
        {
          "output_type": "execute_result",
          "data": {
            "text/plain": [
              "275"
            ]
          },
          "metadata": {
            "tags": []
          },
          "execution_count": 407
        }
      ]
    },
    {
      "cell_type": "code",
      "metadata": {
        "colab": {
          "base_uri": "https://localhost:8080/",
          "height": 86
        },
        "id": "-on89qd81kgR",
        "outputId": "f3bf4ca5-1ca5-4f63-cae8-4531f8eb49f7"
      },
      "source": [
        "from sklearn.metrics import classification_report\n",
        "classification_report(y_test,y_valuated)"
      ],
      "execution_count": null,
      "outputs": [
        {
          "output_type": "execute_result",
          "data": {
            "application/vnd.google.colaboratory.intrinsic+json": {
              "type": "string"
            },
            "text/plain": [
              "'              precision    recall  f1-score   support\\n\\n           0       0.95      0.95      0.95       155\\n           1       0.94      0.93      0.94       120\\n\\n    accuracy                           0.95       275\\n   macro avg       0.94      0.94      0.94       275\\nweighted avg       0.95      0.95      0.95       275\\n'"
            ]
          },
          "metadata": {
            "tags": []
          },
          "execution_count": 408
        }
      ]
    },
    {
      "cell_type": "markdown",
      "metadata": {
        "id": "41INm85WOdjF"
      },
      "source": [
        "#Classification Report of trained model\n",
        "F-score,Precision-Recall,Accuracy"
      ]
    },
    {
      "cell_type": "code",
      "metadata": {
        "id": "MXhQAmUf4VPC"
      },
      "source": [
        "              precision    recall  f1-score   support\n",
        "\n",
        "           0       0.95      0.95      0.95       155\n",
        "           1       0.94      0.93      0.94       120\n",
        "\n",
        "    accuracy                           0.95       275\n",
        "   macro avg       0.94      0.94      0.94       275\n",
        "weighted avg       0.95      0.95      0.95       275\n"
      ],
      "execution_count": null,
      "outputs": []
    },
    {
      "cell_type": "code",
      "metadata": {
        "colab": {
          "base_uri": "https://localhost:8080/"
        },
        "id": "cIvP9pb5EZ--",
        "outputId": "d6c24c80-c1b6-4fee-b816-aa48731ead79"
      },
      "source": [
        "alpha = []\n",
        "beta = []\n",
        "for i in range(0,600,2):\n",
        "  alpha.append(alpha_beta[i])\n",
        "for i in range(1,600,2):\n",
        "  beta.append(alpha_beta[i])\n",
        "print(len(alpha),len(beta))"
      ],
      "execution_count": null,
      "outputs": [
        {
          "output_type": "stream",
          "text": [
            "300 300\n"
          ],
          "name": "stdout"
        }
      ]
    },
    {
      "cell_type": "code",
      "metadata": {
        "colab": {
          "base_uri": "https://localhost:8080/",
          "height": 279
        },
        "id": "GQA6bvTVHGj0",
        "outputId": "d6275a9f-7e4d-4702-9381-cda490e5575f"
      },
      "source": [
        "import matplotlib.pyplot as plt\n",
        "plt.plot([i for i in range(0,300)],alpha)\n",
        "plt.xlabel('EPOCHS')\n",
        "plt.ylabel('alpha')\n",
        "plt.show()"
      ],
      "execution_count": null,
      "outputs": [
        {
          "output_type": "display_data",
          "data": {
            "image/png": "[encoded data removed]",
            "text/plain": [
              "<Figure size 432x288 with 1 Axes>"
            ]
          },
          "metadata": {
            "tags": [],
            "needs_background": "light"
          }
        }
      ]
    },
    {
      "cell_type": "code",
      "metadata": {
        "colab": {
          "base_uri": "https://localhost:8080/",
          "height": 265
        },
        "id": "gqETccibHr05",
        "outputId": "7d9733cd-816b-4488-d9de-d5a7db618c9e"
      },
      "source": [
        "plt.plot([i for i in range(0,300)],beta)\n",
        "plt.xlabel('EPOCHS')\n",
        "plt.ylabel('beta')\n",
        "plt.show()"
      ],
      "execution_count": null,
      "outputs": [
        {
          "output_type": "display_data",
          "data": {
            "image/png": "[encoded data removed]",
            "text/plain": [
              "<Figure size 432x288 with 1 Axes>"
            ]
          },
          "metadata": {
            "tags": [],
            "needs_background": "light"
          }
        }
      ]
    },
    {
      "cell_type": "code",
      "metadata": {
        "colab": {
          "base_uri": "https://localhost:8080/",
          "height": 279
        },
        "id": "WhsCWiKQI4eU",
        "outputId": "d006c433-dac5-489e-f953-e4207447f8c8"
      },
      "source": [
        "plt.plot([i for i in range(0,300)],losses)\n",
        "plt.xlabel('EPOCHS')\n",
        "plt.ylabel('LOSSES')\n",
        "plt.show()"
      ],
      "execution_count": null,
      "outputs": [
        {
          "output_type": "display_data",
          "data": {
            "image/png": "[encoded data removed]",
            "text/plain": [
              "<Figure size 432x288 with 1 Axes>"
            ]
          },
          "metadata": {
            "tags": [],
            "needs_background": "light"
          }
        }
      ]
    },
    {
      "cell_type": "code",
      "metadata": {
        "id": "mAA__1FTKhVv"
      },
      "source": [
        ""
      ],
      "execution_count": null,
      "outputs": []
    }
  ]
}